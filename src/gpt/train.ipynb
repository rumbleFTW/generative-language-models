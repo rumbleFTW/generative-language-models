{
 "cells": [
  {
   "cell_type": "code",
   "execution_count": 1,
   "metadata": {},
   "outputs": [],
   "source": [
    "import sys\n",
    "from skipgram import SkipGram\n",
    "from positional_encoder import PositionalEncoder\n",
    "\n",
    "from encoder import Encoder\n",
    "from decoder import Decoder\n",
    "\n",
    "from transformer import Transformer\n",
    "\n",
    "sys.path.append(\"../\")\n",
    "from utils.preprocess import clean_text"
   ]
  },
  {
   "cell_type": "code",
   "execution_count": 2,
   "metadata": {},
   "outputs": [],
   "source": [
    "D_MODEL = 128\n",
    "CONTEXT_SIZE = 6\n",
    "EPOCHS = 10"
   ]
  },
  {
   "cell_type": "code",
   "execution_count": 3,
   "metadata": {},
   "outputs": [],
   "source": [
    "with open(\"../../data/art_of_war.txt\") as f:\n",
    "    raw_data = f.read()\n",
    "\n",
    "cleaned_data = clean_text(raw_text=raw_data)"
   ]
  },
  {
   "cell_type": "code",
   "execution_count": 4,
   "metadata": {},
   "outputs": [],
   "source": [
    "word2vec = SkipGram(d_model=D_MODEL, context_size=CONTEXT_SIZE)\n",
    "word2vec.fit(corpus=cleaned_data.split(\" \"), epochs=5, device='cuda')"
   ]
  },
  {
   "cell_type": "code",
   "execution_count": 8,
   "metadata": {},
   "outputs": [],
   "source": [
    "seq = word2vec.encode(cleaned_data.split(\" \"))"
   ]
  },
  {
   "cell_type": "code",
   "execution_count": 9,
   "metadata": {},
   "outputs": [],
   "source": [
    "pe = PositionalEncoder(d_model=D_MODEL)\n",
    "for i in range(seq.shape[0]):\n",
    "    seq[i] = seq[i] + pe(i)"
   ]
  },
  {
   "cell_type": "code",
   "execution_count": 10,
   "metadata": {},
   "outputs": [],
   "source": [
    "decoder_inputs = [s[:-1] for s in seq]\n",
    "decoder_targets = [s[1:] for s in seq]"
   ]
  },
  {
   "cell_type": "code",
   "execution_count": 25,
   "metadata": {},
   "outputs": [],
   "source": [
    "model = Transformer(num_blocks=4, d_model=D_MODEL, num_heads=4, hidden_dim=128, source_vocab_size=word2vec.vocab_size, target_vocab_size=word2vec.vocab_size, max_input_len=seq.shape[0], max_target_len=100)"
   ]
  },
  {
   "cell_type": "code",
   "execution_count": 31,
   "metadata": {},
   "outputs": [],
   "source": [
    "for i in range(EPOCHS):\n",
    "    model.train()"
   ]
  }
 ],
 "metadata": {
  "kernelspec": {
   "display_name": "data-science",
   "language": "python",
   "name": "python3"
  },
  "language_info": {
   "codemirror_mode": {
    "name": "ipython",
    "version": 3
   },
   "file_extension": ".py",
   "mimetype": "text/x-python",
   "name": "python",
   "nbconvert_exporter": "python",
   "pygments_lexer": "ipython3",
   "version": "3.11.3"
  },
  "orig_nbformat": 4
 },
 "nbformat": 4,
 "nbformat_minor": 2
}
